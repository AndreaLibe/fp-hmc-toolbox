{
 "cells": [
  {
   "cell_type": "code",
   "execution_count": 22,
   "metadata": {},
   "outputs": [],
   "source": [
    "# Settings\n",
    "\n",
    "# General settings\n",
    "data_folder = \"/home/andrea/CIMA/PROJECT_Volta/data/integrated_data/\" #\"/home/andrea/Desktop/Test/series/\" \n",
    "start_analysis = \"2018-01-01 00:00\"\n",
    "end_analysis = \"2020-12-31 23:00\"\n",
    "freq=\"D\"\n",
    "\n",
    "# Hmc settings\n",
    "domain = \"volta\"\n",
    "#hmc_output = \"/home/andrea/CIMA/PROJECT_Volta/data/rainfall_analysis/imerg/hmc.hydrograph.txt\"\n",
    "#hmc_static_gridded = \"/home/andrea/CIMA/PROJECT_Volta/data/rainfall_analysis/data_static/gridded/\"\n",
    "#hmc_static_point = \"/home/andrea/CIMA/PROJECT_Volta/data/rainfall_analysis/data_static/point/\"\n",
    "\n",
    "hmc_output = \"/home/andrea/CIMA/PROJECT_Volta/data/rainfall_analysis/red_volta/hmc.hydrograph.txt\"\n",
    "hmc_static_gridded = \"/home/andrea/CIMA/PROJECT_Volta/data/rainfall_analysis/data_static/gridded/\"\n",
    "hmc_static_point = \"/home/andrea/CIMA/PROJECT_Volta/data/rainfall_analysis/red_volta/\"\n",
    "\n",
    "# Data\n",
    "sm_series = \"/home/andrea/CIMA/PROJECT_Volta/data/rainfall_analysis/red_volta/average_SM.txt\"\n",
    "rainfall_series = \"/home/andrea/CIMA/PROJECT_Volta/data/rainfall_analysis/red_volta/average_rainfall_mm_h.txt\""
   ]
  },
  {
   "cell_type": "code",
   "execution_count": 23,
   "metadata": {},
   "outputs": [],
   "source": [
    "# Imports\n",
    "%matplotlib inline\n",
    "\n",
    "from ipywidgets import interactive,HBox\n",
    "import pandas as pd\n",
    "import numpy as np\n",
    "from IPython.display import clear_output\n",
    "import matplotlib.pyplot as plt\n",
    "from pysheds.grid import Grid\n",
    "\n",
    "import ipywidgets as widgets\n",
    "from IPython.display import display, HTML\n",
    "import os, glob\n",
    "import datetime as dt\n",
    "import matplotlib.lines as mlines\n",
    "\n",
    "# Define custom functions\n",
    "def create_df(choices):\n",
    "    df = pd.DataFrame(index=pd.date_range(start_time,end_time,freq=freq), columns=choices)\n",
    "    for name in choices:\n",
    "        series = pd.read_csv(os.path.join(data_folder, name + \".csv\"), index_col=0, header=0, parse_dates=True)\n",
    "        df[name] = series.reindex(pd.date_range(start_time,end_time,freq=freq), method=None)\n",
    "    return df\n",
    "\n",
    "def multiplot(widg):\n",
    "    choices = widg['new']\n",
    "    df = create_df(choices)\n",
    "    data = df.loc[:, choices] if choices else df\n",
    "    output.clear_output(wait=True)\n",
    "    with output:\n",
    "        ax = data.plot(figsize=(10,7))\n",
    "        plt.show()\n",
    "        \n",
    "def combinedplot(widg):\n",
    "    choices = widg['new']\n",
    "    data_sm = series[\"SM\"].loc[:, choices] if choices else series\n",
    "    data_rain = series[\"rain\"].loc[:, choices] if choices else series\n",
    "    data_qMod = series[\"discharge_mod\"].loc[:, choices] if choices else series\n",
    "    data_qObs = series[\"discharge_obs\"].loc[:, choices] if choices else series\n",
    "    output2.clear_output(wait=True)\n",
    "    with output2:\n",
    "        ax = data_sm.plot(figsize=(15,7), color='c') \n",
    "        plt.ylim(bottom=0)\n",
    "        plt.ylabel(\"%\")\n",
    "        axx = ax.twinx()\n",
    "        ax1 = data_rain.plot(figsize=(15,7), color='g')\n",
    "        ax2 = data_qMod.plot(figsize=(15,7), color='b')\n",
    "        ax3 = data_qObs.plot(figsize=(15,7), color='r', style='.')\n",
    "        plt.ylim(bottom=0)\n",
    "        #plt.xlim([dt.datetime(2018,1,1),dt.datetime(2019,1,1)])\n",
    "        plt.ylabel(\"mm\")\n",
    "        cyan_line = mlines.Line2D([], [], color='cyan', label='sm')\n",
    "        green_line = mlines.Line2D([], [], color='green', label='rain')\n",
    "        blue_line = mlines.Line2D([], [], color='blue', label='mod_dis')\n",
    "        red_line = mlines.Line2D([], [], color='red', label='obs_dis')\n",
    "        \n",
    "        plt.legend(handles=[cyan_line, green_line, blue_line, red_line])\n",
    "        plt.show()\n",
    "\n",
    "def read_discharge_hmc(file='', col_names=None):\n",
    "    custom_date_parser = lambda x: dt.datetime.strptime(x, \"%Y%m%d%H%M\")\n",
    "    hmc_discharge_df = pd.read_csv(file, header=None, delimiter=r\"\\s+\", parse_dates=[0], index_col=[0], date_parser=custom_date_parser)\n",
    "    hmc_discharge_df.columns = col_names\n",
    "    return hmc_discharge_df"
   ]
  },
  {
   "cell_type": "code",
   "execution_count": 24,
   "metadata": {},
   "outputs": [],
   "source": [
    "# Read static inputs\n",
    "\n",
    "# Sections\n",
    "sections = tabular = pd.read_csv(os.path.join(hmc_static_point, domain + \".info_section.txt\"), sep=\"\\s+\", header=None)\n",
    "rHMC, cHMC, basin_name, section_name = tabular.values[:,0], tabular.values[:,1], tabular.values[:,2], tabular.values[:,3]\n",
    "\n",
    "# Pointers\n",
    "grid = Grid.from_ascii(os.path.join(hmc_static_gridded, domain + \".pnt.txt\"))\n",
    "pnt = grid.read_ascii(os.path.join(hmc_static_gridded, domain + \".pnt.txt\"), dtype=np.int8)\n",
    "areacell = grid.read_ascii(os.path.join(hmc_static_gridded, domain + \".areacell.txt\"))"
   ]
  },
  {
   "cell_type": "code",
   "execution_count": 25,
   "metadata": {},
   "outputs": [],
   "source": [
    "# Compute basin cell area\n",
    "basin_area = pd.DataFrame(index=section_name, columns=[\"Area (m2)\"])\n",
    "dirmap_HMC = (8, 9, 6, 3, 2, 1, 4, 7)\n",
    "\n",
    "for ix, iy, basin, name in zip(cHMC, rHMC, basin_name, section_name):\n",
    "        basin = grid.catchment(fdir=pnt, x=ix-1, y=iy-1, dirmap=dirmap_HMC, xytype='index')\n",
    "        mask = np.where(basin>0, 1, np.nan)\n",
    "        basin_area.loc[name, \"Area (m2)\"] = np.nansum(mask*areacell).astype(\"float32\")"
   ]
  },
  {
   "cell_type": "code",
   "execution_count": 26,
   "metadata": {},
   "outputs": [],
   "source": [
    "# Read hmc output\n",
    "mod_out = read_discharge_hmc(hmc_output, section_name)"
   ]
  },
  {
   "cell_type": "code",
   "execution_count": 27,
   "metadata": {
    "pycharm": {
     "name": "#%%\n"
    }
   },
   "outputs": [],
   "source": [
    "# Set timing\n",
    "start_time = dt.datetime.strptime(start_analysis, \"%Y-%m-%d %H:%M\")\n",
    "end_time = dt.datetime.strptime(end_analysis, \"%Y-%m-%d %H:%M\")"
   ]
  },
  {
   "cell_type": "code",
   "execution_count": 28,
   "metadata": {},
   "outputs": [
    {
     "data": {
      "text/plain": [
       "'WARNING! Data for sections  are missing!'"
      ]
     },
     "metadata": {},
     "output_type": "display_data"
    }
   ],
   "source": [
    "# Read datasets\n",
    "series = {}\n",
    "\n",
    "series[\"SM\"] = pd.read_csv(sm_series, index_col=0, header=0, parse_dates=True)[start_time:end_time]\n",
    "series[\"rain\"] = pd.read_csv(rainfall_series, index_col=0, header=0, parse_dates=True)[start_time:end_time]\n",
    "dis_out = mod_out[start_time:end_time]\n",
    "\n",
    "missing_data = [i for i in section_name if not os.path.isfile(os.path.join(data_folder, i + \".csv\"))]\n",
    "display(\"WARNING! Data for sections \" + \", \".join(missing_data) + \" are missing!\")\n",
    "dis_in = create_df([i for i in section_name if i not in missing_data])"
   ]
  },
  {
   "cell_type": "code",
   "execution_count": 29,
   "metadata": {
    "pycharm": {
     "name": "#%%\n"
    }
   },
   "outputs": [],
   "source": [
    "# Convert all series to mm/day\n",
    "series[\"rain\"] = series[\"rain\"].resample(\"D\").sum()\n",
    "series[\"discharge_mod\"] = pd.DataFrame(index = series[\"rain\"].index, columns = dis_out.columns)\n",
    "series[\"discharge_obs\"] = pd.DataFrame(index = series[\"rain\"].index, columns = dis_in.columns)\n",
    "series[\"availability\"] = pd.DataFrame(index = series[\"rain\"].index, columns = dis_in.columns)\n",
    "series[\"SM\"] = series[\"SM\"] * 100\n",
    "\n",
    "for name in dis_out.columns:\n",
    "    series[\"discharge_mod\"][name] = (dis_out[name] * (1000*3600)/float(basin_area.loc[name, \"Area (m2)\"])).resample(\"D\").sum()\n",
    "\n",
    "for name in series[\"discharge_obs\"].columns:\n",
    "    series[\"discharge_obs\"][name] = (dis_in[name] * (1000*3600*24)/float(basin_area.loc[name, \"Area (m2)\"]))\n",
    "    series[\"availability\"][name] = dis_in[name].resample(\"D\").count()"
   ]
  },
  {
   "cell_type": "code",
   "execution_count": 30,
   "metadata": {},
   "outputs": [],
   "source": [
    "series_annual = {}\n",
    "\n",
    "for stype in series.keys():\n",
    "    series_annual[stype] = series[stype].resample(\"Y\").sum()\n",
    "    index = pd.Index([str(y) + \"_\" + stype for y in np.unique(series_annual[stype].index.year)])\n",
    "    series_annual[stype].set_index(index, inplace=True)"
   ]
  },
  {
   "cell_type": "code",
   "execution_count": 31,
   "metadata": {},
   "outputs": [],
   "source": [
    "#out_table = pd.concat([series_annual[i].T for i in series_annual.keys()], axis=1)\n",
    "#out_table = out_table.reindex(sorted(out_table.columns), axis=1)\n",
    "\n",
    "#display(out_table)\n",
    "#out_table.to_csv(\"/home/andrea/Desktop/summary_balance_old.csv\")"
   ]
  },
  {
   "cell_type": "code",
   "execution_count": 32,
   "metadata": {},
   "outputs": [
    {
     "data": {
      "application/vnd.jupyter.widget-view+json": {
       "model_id": "120b6ee26c314348b5b8aebdd036c787",
       "version_major": 2,
       "version_minor": 0
      },
      "text/plain": [
       "VBox(children=(Dropdown(options=('Dakaye', 'Nangodi', 'Noberé', 'Ziou'), value='Dakaye'), Output()), layout=La…"
      ]
     },
     "metadata": {},
     "output_type": "display_data"
    }
   ],
   "source": [
    "# Generate list\n",
    "selector2 = widgets.Dropdown(\n",
    "options=series_annual[\"SM\"].T.index,\n",
    "value=series_annual[\"SM\"].T.index[0])\n",
    "\n",
    "output2 = widgets.Output()\n",
    "\n",
    "# Set layout and display\n",
    "form_item_layout = widgets.Layout(\n",
    "    display='flex',\n",
    "    justify_content='space-between'\n",
    ")\n",
    "display(widgets.VBox([selector2, output2], layout=form_item_layout))\n",
    "\n",
    "# Re-generate multiplot\n",
    "selector2.observe(combinedplot, names='value')"
   ]
  },
  {
   "cell_type": "code",
   "execution_count": null,
   "metadata": {},
   "outputs": [],
   "source": []
  },
  {
   "cell_type": "code",
   "execution_count": null,
   "metadata": {},
   "outputs": [],
   "source": []
  }
 ],
 "metadata": {
  "kernelspec": {
   "display_name": "Python 3",
   "language": "python",
   "name": "python3"
  },
  "language_info": {
   "codemirror_mode": {
    "name": "ipython",
    "version": 3
   },
   "file_extension": ".py",
   "mimetype": "text/x-python",
   "name": "python",
   "nbconvert_exporter": "python",
   "pygments_lexer": "ipython3",
   "version": "3.6.7"
  }
 },
 "nbformat": 4,
 "nbformat_minor": 1
}
